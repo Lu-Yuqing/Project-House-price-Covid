{
 "cells": [
  {
   "cell_type": "markdown",
   "id": "ab4b7e6d",
   "metadata": {},
   "source": [
    "# How Covid-19 Impact the Housing Prices in U.S "
   ]
  },
  {
   "cell_type": "markdown",
   "id": "9e55a9f5",
   "metadata": {},
   "source": [
    "# Data"
   ]
  },
  {
   "cell_type": "code",
   "execution_count": 1,
   "id": "d19b71fa",
   "metadata": {},
   "outputs": [],
   "source": [
    "import pandas as pd\n",
    "import numpy as np\n",
    "from functools import reduce\n",
    "import matplotlib.pyplot as plt\n",
    "import statsmodels.api as sm\n",
    "from statsmodels.tsa.stattools import adfuller\n",
    "from statsmodels.formula.api import ols\n",
    "from patsy import dmatrices\n",
    "from statsmodels.stats.outliers_influence import variance_inflation_factor"
   ]
  },
  {
   "cell_type": "markdown",
   "id": "488a0a58",
   "metadata": {},
   "source": [
    "**Source of Data**"
   ]
  },
  {
   "cell_type": "markdown",
   "id": "ca0df70d",
   "metadata": {},
   "source": [
    "All our variables are monthly data from January 2010 to January 2022\n",
    "\n",
    "**House price**:  S&P/Case-Shiller U.S. National Home Price Index, source:FRED https://fred.stlouisfed.org/ \\\n",
    "**Covid-19**, as treatment. If before the outbreak of Covid-19 in the US, variable Covid-19 = 0. After the outbreak of Covid-19, Covid-19 =1.\\\n",
    "**Personal income**: Real Disposable Personal Income, source: FRED\\\n",
    "**Population**, source: FRED \\\n",
    "**Interest rate**: Federal Funds Effective Rate, source: FRED \\\n",
    "**Saving rate**: Personal Saving Rate\\\n",
    "**GDP**: Monthly GDP, source: IHS Markit https://ihsmarkit.com/index.html \\\n",
    "**CPI**: consumer price index,  source: FRED\\\n",
    "**Unemployment rate**, source: FRED "
   ]
  },
  {
   "cell_type": "code",
   "execution_count": 2,
   "id": "48e13c70",
   "metadata": {},
   "outputs": [
    {
     "name": "stdout",
     "output_type": "stream",
     "text": [
      "           DATE  PSAVERT\n",
      "0    2010-01-01      5.9\n",
      "1    2010-02-01      5.6\n",
      "2    2010-03-01      5.6\n",
      "3    2010-04-01      6.2\n",
      "4    2010-05-01      6.7\n",
      "..          ...      ...\n",
      "140  2021-09-01      8.1\n",
      "141  2021-10-01      7.3\n",
      "142  2021-11-01      7.3\n",
      "143  2021-12-01      8.4\n",
      "144  2022-01-01      6.7\n",
      "\n",
      "[145 rows x 2 columns]\n"
     ]
    }
   ],
   "source": [
    "#import data\n",
    "House_price = pd.read_csv('Home price index.csv') #dependent variable\n",
    "Population = pd.read_csv('Population.csv')\n",
    "GDP = pd.read_csv('Monthly GDP.csv')\n",
    "CPI = pd.read_csv('Consumer Price Index.csv')\n",
    "Interest = pd.read_csv('Federal fund effective rate.csv')\n",
    "Income = pd.read_csv('Personal Income.csv')\n",
    "Unemployment = pd.read_csv('Unemployment rate.csv')\n",
    "Saving = pd.read_csv('Saving.csv')\n",
    "print(Saving)"
   ]
  },
  {
   "cell_type": "markdown",
   "id": "37664c21",
   "metadata": {},
   "source": [
    "**Process of Data**\n",
    "\n",
    "We use Python to rename variables, drop missing data, merge datasets and generate a new variable—Covid-19. Finally all data are integrated into a file named Data.\n",
    "\n"
   ]
  },
  {
   "cell_type": "code",
   "execution_count": 3,
   "id": "5c719ef9",
   "metadata": {},
   "outputs": [
    {
     "name": "stdout",
     "output_type": "stream",
     "text": [
      "           DATE  CSUSHPISA    POPTHM  Real Monthly GDP  USACPIALLMINMEI  \\\n",
      "0    2010-01-01    147.395  308706.0         15399.668        91.422556   \n",
      "1    2010-02-01    145.631  308904.0         15435.796        91.445339   \n",
      "2    2010-03-01    145.859  309095.0         15532.733        91.820840   \n",
      "3    2010-04-01    146.399  309289.0         15593.137        91.980322   \n",
      "4    2010-05-01    146.389  309485.0         15574.485        92.051625   \n",
      "..          ...        ...       ...               ...              ...   \n",
      "143  2021-12-01    279.954  332640.0         19785.732       117.629537   \n",
      "144  2022-01-01    284.330  332684.0         19784.287       118.619339   \n",
      "145  2022-02-01        NaN  332750.0               NaN       119.702806   \n",
      "146  2022-03-01        NaN       NaN               NaN              NaN   \n",
      "147  2022-04-01        NaN       NaN               NaN              NaN   \n",
      "\n",
      "          DFF  DSPIC96  UNRATE  PSAVERT  \n",
      "0    0.110000  11644.6     9.8      5.9  \n",
      "1    0.126429  11655.6     9.8      5.6  \n",
      "2    0.164516  11702.1     9.9      5.6  \n",
      "3    0.198333  11799.8     9.9      6.2  \n",
      "4    0.200645  11887.9     9.6      6.7  \n",
      "..        ...      ...     ...      ...  \n",
      "143  0.079677  15385.4     3.9      8.4  \n",
      "144  0.079355  15321.4     4.0      6.7  \n",
      "145  0.080000  15296.5     3.8      NaN  \n",
      "146  0.200968      NaN     3.6      NaN  \n",
      "147  0.330000      NaN     NaN      NaN  \n",
      "\n",
      "[148 rows x 9 columns]\n"
     ]
    }
   ],
   "source": [
    "# merge data\n",
    "data_frames = [House_price, Population, GDP, CPI, Interest, Income, Unemployment, Saving]\n",
    "df_merged = reduce(lambda  left,right: pd.merge(left,right,on=['DATE'], how='outer'), data_frames)\n",
    "print(df_merged)"
   ]
  },
  {
   "cell_type": "code",
   "execution_count": 4,
   "id": "d4b72cda",
   "metadata": {},
   "outputs": [
    {
     "name": "stdout",
     "output_type": "stream",
     "text": [
      "           DATE  CSUSHPISA    POPTHM  Real Monthly GDP  USACPIALLMINMEI  \\\n",
      "0    2010-01-01    147.395  308706.0         15399.668        91.422556   \n",
      "1    2010-02-01    145.631  308904.0         15435.796        91.445339   \n",
      "2    2010-03-01    145.859  309095.0         15532.733        91.820840   \n",
      "3    2010-04-01    146.399  309289.0         15593.137        91.980322   \n",
      "4    2010-05-01    146.389  309485.0         15574.485        92.051625   \n",
      "..          ...        ...       ...               ...              ...   \n",
      "140  2021-09-01    270.362  332403.0         19576.597       115.734314   \n",
      "141  2021-10-01    273.254  332513.0         19887.311       116.695849   \n",
      "142  2021-11-01    276.478  332598.0         19778.149       117.269225   \n",
      "143  2021-12-01    279.954  332640.0         19785.732       117.629537   \n",
      "144  2022-01-01    284.330  332684.0         19784.287       118.619339   \n",
      "\n",
      "          DFF  DSPIC96  UNRATE  PSAVERT  \n",
      "0    0.110000  11644.6     9.8      5.9  \n",
      "1    0.126429  11655.6     9.8      5.6  \n",
      "2    0.164516  11702.1     9.9      5.6  \n",
      "3    0.198333  11799.8     9.9      6.2  \n",
      "4    0.200645  11887.9     9.6      6.7  \n",
      "..        ...      ...     ...      ...  \n",
      "140  0.079333  15466.3     4.7      8.1  \n",
      "141  0.079032  15444.5     4.6      7.3  \n",
      "142  0.079667  15423.2     4.2      7.3  \n",
      "143  0.079677  15385.4     3.9      8.4  \n",
      "144  0.079355  15321.4     4.0      6.7  \n",
      "\n",
      "[145 rows x 9 columns]\n"
     ]
    }
   ],
   "source": [
    "#drop missing row\n",
    "table = df_merged.drop([145, 146, 147])\n",
    "print(table)"
   ]
  },
  {
   "cell_type": "code",
   "execution_count": 5,
   "id": "12a1aa21",
   "metadata": {},
   "outputs": [
    {
     "data": {
      "text/plain": [
       "['DATE',\n",
       " 'CSUSHPISA',\n",
       " 'POPTHM',\n",
       " 'Real Monthly GDP',\n",
       " 'USACPIALLMINMEI',\n",
       " 'DFF',\n",
       " 'DSPIC96',\n",
       " 'UNRATE',\n",
       " 'PSAVERT']"
      ]
     },
     "execution_count": 5,
     "metadata": {},
     "output_type": "execute_result"
    }
   ],
   "source": [
    "list(table)"
   ]
  },
  {
   "cell_type": "code",
   "execution_count": 6,
   "id": "84c42110",
   "metadata": {},
   "outputs": [
    {
     "data": {
      "text/plain": [
       "['DATE',\n",
       " 'House_price',\n",
       " 'Population',\n",
       " 'GDP',\n",
       " 'CPI',\n",
       " 'Interest',\n",
       " 'Income',\n",
       " 'Unemployment',\n",
       " 'Saving']"
      ]
     },
     "execution_count": 6,
     "metadata": {},
     "output_type": "execute_result"
    }
   ],
   "source": [
    "#rename variables\n",
    "table.rename(columns = {'CSUSHPISA':'House_price', 'POPTHM':'Population', 'Real Monthly GDP':'GDP', 'USACPIALLMINMEI':'CPI', 'DFF':'Interest', 'DSPIC96':'Income', 'UNRATE':'Unemployment', 'PSAVERT':'Saving'}, inplace = True)\n",
    "list(table)"
   ]
  },
  {
   "cell_type": "code",
   "execution_count": 7,
   "id": "53310ab3",
   "metadata": {},
   "outputs": [
    {
     "name": "stdout",
     "output_type": "stream",
     "text": [
      "           DATE  House_price  Population        GDP         CPI  Interest  \\\n",
      "0    2010-01-01      147.395    308706.0  15399.668   91.422556  0.110000   \n",
      "1    2010-02-01      145.631    308904.0  15435.796   91.445339  0.126429   \n",
      "2    2010-03-01      145.859    309095.0  15532.733   91.820840  0.164516   \n",
      "3    2010-04-01      146.399    309289.0  15593.137   91.980322  0.198333   \n",
      "4    2010-05-01      146.389    309485.0  15574.485   92.051625  0.200645   \n",
      "..          ...          ...         ...        ...         ...       ...   \n",
      "140  2021-09-01      270.362    332403.0  19576.597  115.734314  0.079333   \n",
      "141  2021-10-01      273.254    332513.0  19887.311  116.695849  0.079032   \n",
      "142  2021-11-01      276.478    332598.0  19778.149  117.269225  0.079667   \n",
      "143  2021-12-01      279.954    332640.0  19785.732  117.629537  0.079677   \n",
      "144  2022-01-01      284.330    332684.0  19784.287  118.619339  0.079355   \n",
      "\n",
      "      Income  Unemployment  Saving  \n",
      "0    11644.6           9.8     5.9  \n",
      "1    11655.6           9.8     5.6  \n",
      "2    11702.1           9.9     5.6  \n",
      "3    11799.8           9.9     6.2  \n",
      "4    11887.9           9.6     6.7  \n",
      "..       ...           ...     ...  \n",
      "140  15466.3           4.7     8.1  \n",
      "141  15444.5           4.6     7.3  \n",
      "142  15423.2           4.2     7.3  \n",
      "143  15385.4           3.9     8.4  \n",
      "144  15321.4           4.0     6.7  \n",
      "\n",
      "[145 rows x 9 columns]\n"
     ]
    }
   ],
   "source": [
    "print(table)"
   ]
  },
  {
   "cell_type": "markdown",
   "id": "291489d3",
   "metadata": {},
   "source": [
    "CDC confirms the first U.S. laboratory-confirmed case of COVID-19 in the U.S. from samples taken on January 18,2020 in Washington state. Therefore, we plan to generate a new variable Covid_19 as a treatment. Between Jan 2010 and Jan 2020, Covid_19 = 0. Between Feb 2020 and Jan 2022, Covid_19 = 1."
   ]
  },
  {
   "cell_type": "code",
   "execution_count": 8,
   "id": "a753151b",
   "metadata": {},
   "outputs": [
    {
     "data": {
      "text/html": [
       "<div>\n",
       "<style scoped>\n",
       "    .dataframe tbody tr th:only-of-type {\n",
       "        vertical-align: middle;\n",
       "    }\n",
       "\n",
       "    .dataframe tbody tr th {\n",
       "        vertical-align: top;\n",
       "    }\n",
       "\n",
       "    .dataframe thead th {\n",
       "        text-align: right;\n",
       "    }\n",
       "</style>\n",
       "<table border=\"1\" class=\"dataframe\">\n",
       "  <thead>\n",
       "    <tr style=\"text-align: right;\">\n",
       "      <th></th>\n",
       "      <th>DATE</th>\n",
       "      <th>House_price</th>\n",
       "      <th>Population</th>\n",
       "      <th>GDP</th>\n",
       "      <th>CPI</th>\n",
       "      <th>Interest</th>\n",
       "      <th>Income</th>\n",
       "      <th>Unemployment</th>\n",
       "      <th>Saving</th>\n",
       "    </tr>\n",
       "  </thead>\n",
       "  <tbody>\n",
       "    <tr>\n",
       "      <th>0</th>\n",
       "      <td>2010-01-01</td>\n",
       "      <td>147.395</td>\n",
       "      <td>308706.0</td>\n",
       "      <td>15399.668</td>\n",
       "      <td>91.422556</td>\n",
       "      <td>0.110000</td>\n",
       "      <td>11644.6</td>\n",
       "      <td>9.8</td>\n",
       "      <td>5.9</td>\n",
       "    </tr>\n",
       "    <tr>\n",
       "      <th>1</th>\n",
       "      <td>2010-02-01</td>\n",
       "      <td>145.631</td>\n",
       "      <td>308904.0</td>\n",
       "      <td>15435.796</td>\n",
       "      <td>91.445339</td>\n",
       "      <td>0.126429</td>\n",
       "      <td>11655.6</td>\n",
       "      <td>9.8</td>\n",
       "      <td>5.6</td>\n",
       "    </tr>\n",
       "    <tr>\n",
       "      <th>2</th>\n",
       "      <td>2010-03-01</td>\n",
       "      <td>145.859</td>\n",
       "      <td>309095.0</td>\n",
       "      <td>15532.733</td>\n",
       "      <td>91.820840</td>\n",
       "      <td>0.164516</td>\n",
       "      <td>11702.1</td>\n",
       "      <td>9.9</td>\n",
       "      <td>5.6</td>\n",
       "    </tr>\n",
       "    <tr>\n",
       "      <th>3</th>\n",
       "      <td>2010-04-01</td>\n",
       "      <td>146.399</td>\n",
       "      <td>309289.0</td>\n",
       "      <td>15593.137</td>\n",
       "      <td>91.980322</td>\n",
       "      <td>0.198333</td>\n",
       "      <td>11799.8</td>\n",
       "      <td>9.9</td>\n",
       "      <td>6.2</td>\n",
       "    </tr>\n",
       "    <tr>\n",
       "      <th>4</th>\n",
       "      <td>2010-05-01</td>\n",
       "      <td>146.389</td>\n",
       "      <td>309485.0</td>\n",
       "      <td>15574.485</td>\n",
       "      <td>92.051625</td>\n",
       "      <td>0.200645</td>\n",
       "      <td>11887.9</td>\n",
       "      <td>9.6</td>\n",
       "      <td>6.7</td>\n",
       "    </tr>\n",
       "  </tbody>\n",
       "</table>\n",
       "</div>"
      ],
      "text/plain": [
       "         DATE  House_price  Population        GDP        CPI  Interest  \\\n",
       "0  2010-01-01      147.395    308706.0  15399.668  91.422556  0.110000   \n",
       "1  2010-02-01      145.631    308904.0  15435.796  91.445339  0.126429   \n",
       "2  2010-03-01      145.859    309095.0  15532.733  91.820840  0.164516   \n",
       "3  2010-04-01      146.399    309289.0  15593.137  91.980322  0.198333   \n",
       "4  2010-05-01      146.389    309485.0  15574.485  92.051625  0.200645   \n",
       "\n",
       "    Income  Unemployment  Saving  \n",
       "0  11644.6           9.8     5.9  \n",
       "1  11655.6           9.8     5.6  \n",
       "2  11702.1           9.9     5.6  \n",
       "3  11799.8           9.9     6.2  \n",
       "4  11887.9           9.6     6.7  "
      ]
     },
     "execution_count": 8,
     "metadata": {},
     "output_type": "execute_result"
    }
   ],
   "source": [
    "#generate new variable Covid_19\n",
    "# table.assign(covid_19 = 1)\n",
    "table.head()"
   ]
  },
  {
   "cell_type": "code",
   "execution_count": 9,
   "id": "f2579a7a",
   "metadata": {},
   "outputs": [
    {
     "data": {
      "text/html": [
       "<div>\n",
       "<style scoped>\n",
       "    .dataframe tbody tr th:only-of-type {\n",
       "        vertical-align: middle;\n",
       "    }\n",
       "\n",
       "    .dataframe tbody tr th {\n",
       "        vertical-align: top;\n",
       "    }\n",
       "\n",
       "    .dataframe thead th {\n",
       "        text-align: right;\n",
       "    }\n",
       "</style>\n",
       "<table border=\"1\" class=\"dataframe\">\n",
       "  <thead>\n",
       "    <tr style=\"text-align: right;\">\n",
       "      <th></th>\n",
       "      <th>Covid</th>\n",
       "    </tr>\n",
       "  </thead>\n",
       "  <tbody>\n",
       "    <tr>\n",
       "      <th>0</th>\n",
       "      <td>0</td>\n",
       "    </tr>\n",
       "    <tr>\n",
       "      <th>1</th>\n",
       "      <td>0</td>\n",
       "    </tr>\n",
       "    <tr>\n",
       "      <th>2</th>\n",
       "      <td>0</td>\n",
       "    </tr>\n",
       "    <tr>\n",
       "      <th>3</th>\n",
       "      <td>0</td>\n",
       "    </tr>\n",
       "    <tr>\n",
       "      <th>4</th>\n",
       "      <td>0</td>\n",
       "    </tr>\n",
       "    <tr>\n",
       "      <th>...</th>\n",
       "      <td>...</td>\n",
       "    </tr>\n",
       "    <tr>\n",
       "      <th>140</th>\n",
       "      <td>1</td>\n",
       "    </tr>\n",
       "    <tr>\n",
       "      <th>141</th>\n",
       "      <td>1</td>\n",
       "    </tr>\n",
       "    <tr>\n",
       "      <th>142</th>\n",
       "      <td>1</td>\n",
       "    </tr>\n",
       "    <tr>\n",
       "      <th>143</th>\n",
       "      <td>1</td>\n",
       "    </tr>\n",
       "    <tr>\n",
       "      <th>144</th>\n",
       "      <td>1</td>\n",
       "    </tr>\n",
       "  </tbody>\n",
       "</table>\n",
       "<p>145 rows × 1 columns</p>\n",
       "</div>"
      ],
      "text/plain": [
       "     Covid\n",
       "0        0\n",
       "1        0\n",
       "2        0\n",
       "3        0\n",
       "4        0\n",
       "..     ...\n",
       "140      1\n",
       "141      1\n",
       "142      1\n",
       "143      1\n",
       "144      1\n",
       "\n",
       "[145 rows x 1 columns]"
      ]
     },
     "execution_count": 9,
     "metadata": {},
     "output_type": "execute_result"
    }
   ],
   "source": [
    "#generate a list, then converting to Dataframe\n",
    "no_covid = 121\n",
    "num = 145\n",
    "b = [0 if i < no_covid else 1 for i in range(num)]\n",
    "df = pd.DataFrame (b, columns = ['Covid'])\n",
    "df"
   ]
  },
  {
   "cell_type": "code",
   "execution_count": 10,
   "id": "4afa9f94",
   "metadata": {},
   "outputs": [
    {
     "name": "stdout",
     "output_type": "stream",
     "text": [
      "          DATE  House_price  Population        GDP         CPI  Interest  \\\n",
      "0   2010-01-01      147.395    308706.0  15399.668   91.422556  0.110000   \n",
      "1   2010-02-01      145.631    308904.0  15435.796   91.445339  0.126429   \n",
      "2   2010-03-01      145.859    309095.0  15532.733   91.820840  0.164516   \n",
      "3   2010-04-01      146.399    309289.0  15593.137   91.980322  0.198333   \n",
      "4   2010-05-01      146.389    309485.0  15574.485   92.051625  0.200645   \n",
      "..         ...          ...         ...        ...         ...       ...   \n",
      "140 2021-09-01      270.362    332403.0  19576.597  115.734314  0.079333   \n",
      "141 2021-10-01      273.254    332513.0  19887.311  116.695849  0.079032   \n",
      "142 2021-11-01      276.478    332598.0  19778.149  117.269225  0.079667   \n",
      "143 2021-12-01      279.954    332640.0  19785.732  117.629537  0.079677   \n",
      "144 2022-01-01      284.330    332684.0  19784.287  118.619339  0.079355   \n",
      "\n",
      "      Income  Unemployment  Saving  Covid  \n",
      "0    11644.6           9.8     5.9      0  \n",
      "1    11655.6           9.8     5.6      0  \n",
      "2    11702.1           9.9     5.6      0  \n",
      "3    11799.8           9.9     6.2      0  \n",
      "4    11887.9           9.6     6.7      0  \n",
      "..       ...           ...     ...    ...  \n",
      "140  15466.3           4.7     8.1      1  \n",
      "141  15444.5           4.6     7.3      1  \n",
      "142  15423.2           4.2     7.3      1  \n",
      "143  15385.4           3.9     8.4      1  \n",
      "144  15321.4           4.0     6.7      1  \n",
      "\n",
      "[145 rows x 10 columns]\n"
     ]
    }
   ],
   "source": [
    "Data = pd.concat([table, df], axis=1)\n",
    "Data['DATE'] = pd.to_datetime(Data['DATE'])\n",
    "print(Data)"
   ]
  },
  {
   "cell_type": "code",
   "execution_count": 11,
   "id": "2a4b5b97",
   "metadata": {},
   "outputs": [],
   "source": [
    "#store data set\n",
    "Data.to_csv(\"Data.csv\")"
   ]
  },
  {
   "cell_type": "markdown",
   "id": "a33ff1d3",
   "metadata": {},
   "source": [
    "**Analysis of Data**\n",
    "\n",
    "We conduct descriptive analysis, correlation analysis and VIF tests to find sampling restrictions. The plots also show the trends and distributions of variables during the 12 years."
   ]
  },
  {
   "cell_type": "markdown",
   "id": "24b87303",
   "metadata": {},
   "source": [
    "**Descriptive Analysis**"
   ]
  },
  {
   "cell_type": "code",
   "execution_count": 12,
   "id": "063f5024",
   "metadata": {},
   "outputs": [
    {
     "data": {
      "text/html": [
       "<div>\n",
       "<style scoped>\n",
       "    .dataframe tbody tr th:only-of-type {\n",
       "        vertical-align: middle;\n",
       "    }\n",
       "\n",
       "    .dataframe tbody tr th {\n",
       "        vertical-align: top;\n",
       "    }\n",
       "\n",
       "    .dataframe thead th {\n",
       "        text-align: right;\n",
       "    }\n",
       "</style>\n",
       "<table border=\"1\" class=\"dataframe\">\n",
       "  <thead>\n",
       "    <tr style=\"text-align: right;\">\n",
       "      <th></th>\n",
       "      <th>House_price</th>\n",
       "      <th>Population</th>\n",
       "      <th>GDP</th>\n",
       "      <th>CPI</th>\n",
       "      <th>Interest</th>\n",
       "      <th>Income</th>\n",
       "      <th>Unemployment</th>\n",
       "      <th>Saving</th>\n",
       "      <th>Covid</th>\n",
       "    </tr>\n",
       "  </thead>\n",
       "  <tbody>\n",
       "    <tr>\n",
       "      <th>count</th>\n",
       "      <td>145.000000</td>\n",
       "      <td>145.000000</td>\n",
       "      <td>145.000000</td>\n",
       "      <td>145.000000</td>\n",
       "      <td>145.000000</td>\n",
       "      <td>145.000000</td>\n",
       "      <td>145.000000</td>\n",
       "      <td>145.000000</td>\n",
       "      <td>145.000000</td>\n",
       "    </tr>\n",
       "    <tr>\n",
       "      <th>mean</th>\n",
       "      <td>182.612200</td>\n",
       "      <td>322605.110345</td>\n",
       "      <td>17506.315469</td>\n",
       "      <td>102.110519</td>\n",
       "      <td>0.545659</td>\n",
       "      <td>13627.641379</td>\n",
       "      <td>6.288966</td>\n",
       "      <td>8.333793</td>\n",
       "      <td>0.165517</td>\n",
       "    </tr>\n",
       "    <tr>\n",
       "      <th>std</th>\n",
       "      <td>36.729805</td>\n",
       "      <td>7546.183077</td>\n",
       "      <td>1244.059812</td>\n",
       "      <td>6.375068</td>\n",
       "      <td>0.728414</td>\n",
       "      <td>1379.796356</td>\n",
       "      <td>2.224145</td>\n",
       "      <td>3.822398</td>\n",
       "      <td>0.372935</td>\n",
       "    </tr>\n",
       "    <tr>\n",
       "      <th>min</th>\n",
       "      <td>136.528000</td>\n",
       "      <td>308706.000000</td>\n",
       "      <td>15399.668000</td>\n",
       "      <td>91.422556</td>\n",
       "      <td>0.049000</td>\n",
       "      <td>11644.600000</td>\n",
       "      <td>3.500000</td>\n",
       "      <td>5.600000</td>\n",
       "      <td>0.000000</td>\n",
       "    </tr>\n",
       "    <tr>\n",
       "      <th>25%</th>\n",
       "      <td>147.395000</td>\n",
       "      <td>316038.000000</td>\n",
       "      <td>16389.708000</td>\n",
       "      <td>97.633081</td>\n",
       "      <td>0.090333</td>\n",
       "      <td>12396.500000</td>\n",
       "      <td>4.400000</td>\n",
       "      <td>6.700000</td>\n",
       "      <td>0.000000</td>\n",
       "    </tr>\n",
       "    <tr>\n",
       "      <th>50%</th>\n",
       "      <td>177.298000</td>\n",
       "      <td>323509.000000</td>\n",
       "      <td>17486.219000</td>\n",
       "      <td>100.559454</td>\n",
       "      <td>0.144333</td>\n",
       "      <td>13515.100000</td>\n",
       "      <td>5.800000</td>\n",
       "      <td>7.300000</td>\n",
       "      <td>0.000000</td>\n",
       "    </tr>\n",
       "    <tr>\n",
       "      <th>75%</th>\n",
       "      <td>206.224000</td>\n",
       "      <td>329766.000000</td>\n",
       "      <td>18632.428000</td>\n",
       "      <td>106.648890</td>\n",
       "      <td>0.656786</td>\n",
       "      <td>14678.000000</td>\n",
       "      <td>8.100000</td>\n",
       "      <td>7.800000</td>\n",
       "      <td>0.000000</td>\n",
       "    </tr>\n",
       "    <tr>\n",
       "      <th>max</th>\n",
       "      <td>284.330000</td>\n",
       "      <td>332684.000000</td>\n",
       "      <td>19887.311000</td>\n",
       "      <td>118.619339</td>\n",
       "      <td>2.423667</td>\n",
       "      <td>19119.500000</td>\n",
       "      <td>14.700000</td>\n",
       "      <td>33.800000</td>\n",
       "      <td>1.000000</td>\n",
       "    </tr>\n",
       "  </tbody>\n",
       "</table>\n",
       "</div>"
      ],
      "text/plain": [
       "       House_price     Population           GDP         CPI    Interest  \\\n",
       "count   145.000000     145.000000    145.000000  145.000000  145.000000   \n",
       "mean    182.612200  322605.110345  17506.315469  102.110519    0.545659   \n",
       "std      36.729805    7546.183077   1244.059812    6.375068    0.728414   \n",
       "min     136.528000  308706.000000  15399.668000   91.422556    0.049000   \n",
       "25%     147.395000  316038.000000  16389.708000   97.633081    0.090333   \n",
       "50%     177.298000  323509.000000  17486.219000  100.559454    0.144333   \n",
       "75%     206.224000  329766.000000  18632.428000  106.648890    0.656786   \n",
       "max     284.330000  332684.000000  19887.311000  118.619339    2.423667   \n",
       "\n",
       "             Income  Unemployment      Saving       Covid  \n",
       "count    145.000000    145.000000  145.000000  145.000000  \n",
       "mean   13627.641379      6.288966    8.333793    0.165517  \n",
       "std     1379.796356      2.224145    3.822398    0.372935  \n",
       "min    11644.600000      3.500000    5.600000    0.000000  \n",
       "25%    12396.500000      4.400000    6.700000    0.000000  \n",
       "50%    13515.100000      5.800000    7.300000    0.000000  \n",
       "75%    14678.000000      8.100000    7.800000    0.000000  \n",
       "max    19119.500000     14.700000   33.800000    1.000000  "
      ]
     },
     "execution_count": 12,
     "metadata": {},
     "output_type": "execute_result"
    }
   ],
   "source": [
    "#Discriptive analysis\n",
    "Data.iloc[:,1:].describe(include='all')"
   ]
  },
  {
   "cell_type": "markdown",
   "id": "7050f5d6",
   "metadata": {},
   "source": [
    "As is illustrated in the descriptive analysis table above, in all our observations, the mean of dummy variable Covid is 0.165517 and it represents tah 16.55% months are in the Treatment of Covid-19. For the the housing price index, it ranges from 136.53 to 284.33 and the mean is 182.61. The average saving rate is 8.33 and the huge differences between max value and 75% quantile implies potential extreme values. Similarly, interest rate has similar situations. "
   ]
  },
  {
   "cell_type": "code",
   "execution_count": 13,
   "id": "0d954951",
   "metadata": {},
   "outputs": [
    {
     "data": {
      "image/png": "[encoded data removed]",
      "text/plain": [
       "<Figure size 1080x576 with 1 Axes>"
      ]
     },
     "metadata": {
      "needs_background": "light"
     },
     "output_type": "display_data"
    },
    {
     "data": {
      "image/png": "[encoded data removed]",
      "text/plain": [
       "<Figure size 1080x576 with 1 Axes>"
      ]
     },
     "metadata": {
      "needs_background": "light"
     },
     "output_type": "display_data"
    },
    {
     "data": {
      "image/png": "[encoded data removed]",
      "text/plain": [
       "<Figure size 1080x576 with 1 Axes>"
      ]
     },
     "metadata": {
      "needs_background": "light"
     },
     "output_type": "display_data"
    },
    {
     "data": {
      "image/png": "[encoded data removed]",
      "text/plain": [
       "<Figure size 1080x576 with 1 Axes>"
      ]
     },
     "metadata": {
      "needs_background": "light"
     },
     "output_type": "display_data"
    },
    {
     "data": {
      "image/png": "[encoded data removed]",
      "text/plain": [
       "<Figure size 1080x576 with 1 Axes>"
      ]
     },
     "metadata": {
      "needs_background": "light"
     },
     "output_type": "display_data"
    },
    {
     "data": {
      "image/png": "[encoded data removed]",
      "text/plain": [
       "<Figure size 1080x576 with 1 Axes>"
      ]
     },
     "metadata": {
      "needs_background": "light"
     },
     "output_type": "display_data"
    },
    {
     "data": {
      "image/png": "[encoded data removed]",
      "text/plain": [
       "<Figure size 1080x576 with 1 Axes>"
      ]
     },
     "metadata": {
      "needs_background": "light"
     },
     "output_type": "display_data"
    },
    {
     "data": {
      "image/png": "[encoded data removed]",
      "text/plain": [
       "<Figure size 1080x576 with 1 Axes>"
      ]
     },
     "metadata": {
      "needs_background": "light"
     },
     "output_type": "display_data"
    },
    {
     "data": {
      "image/png": "[encoded data removed]",
      "text/plain": [
       "<Figure size 1080x576 with 1 Axes>"
      ]
     },
     "metadata": {
      "needs_background": "light"
     },
     "output_type": "display_data"
    }
   ],
   "source": [
    "# Draw the trend of variables\n",
    "values = Data.values\n",
    "groups = [1, 2, 3, 4, 5, 6, 7,8,9]\n",
    "i = 1\n",
    "# plot each column\n",
    "for group in groups:\n",
    "    fig = plt.figure(figsize =(15, 8))\n",
    "    plt.subplot(len(groups), 1, i)\n",
    "    plt.plot(values[:, 0],values[:, group])\n",
    "    plt.title(Data.columns[group], y=1, loc='right')\n",
    "    i += 1\n",
    "\n",
    "\n",
    "plt.show()"
   ]
  },
  {
   "cell_type": "markdown",
   "id": "7b0ef490",
   "metadata": {},
   "source": [
    "As is shown in the plots above, **CPI**, which represents the inflation and price levels in the economy keeps increasing during the 12 years.\n",
    "\n",
    "For the **interest rate**, it stayed in relative steady low level. Starting from 2016, the interest kept growing in flactuations and reach the peak in 2019. Then the interest rate experienced two sharp decreases and the latter one serves as an intervention in response to Covid-19 recession.\n",
    "\n",
    "The **housing price** kept an increment during the observed years. The increase rate went up after the mid of 2020.\n",
    "\n",
    "For the **disposable income**, it experienced several sharp up and downs after the pandemic outbreak.\n",
    "\n",
    "The **population** increases in a steady speed during the 12 years.\n",
    "\n",
    "It is clearly shown that the **unemployment rate** experienced a 10-year drop before 2020. During the Covid-19 recession, the unemployment rate sharply increased to the peak and gradually went down to the normal level.\n",
    "\n",
    "Most of the time, **the real GDP** kept an increasing trend, except a dramatic slump in 2020 after the outbreak of Covid-19.\n",
    "\n",
    "The **savings rate** also stayed in a relatively stable level before the pandemic, sharp fluctuations could be viewed after that."
   ]
  },
  {
   "cell_type": "code",
   "execution_count": 14,
   "id": "f26c98e1",
   "metadata": {},
   "outputs": [
    {
     "data": {
      "image/png": "[encoded data removed]",
      "text/plain": [
       "<Figure size 432x288 with 8 Axes>"
      ]
     },
     "metadata": {
      "needs_background": "light"
     },
     "output_type": "display_data"
    }
   ],
   "source": [
    "# Draw the distribution of variables' obeservations\n",
    "groups = [1,2,3,4,5,6,7,8]\n",
    "i = 1\n",
    "for group in groups:\n",
    "\n",
    "    plt.subplot(2,4,i)\n",
    "    plt.boxplot(Data.iloc[:,group])\n",
    "    plt.title(Data.columns[group], x=1, loc='right')\n",
    "    i += 1\n",
    "\n",
    "plt.tight_layout()"
   ]
  },
  {
   "cell_type": "markdown",
   "id": "5f4017df",
   "metadata": {},
   "source": [
    "As is shown in the boxplots above, variables CPI,House_price, Income, Population, Unemplyment rate and GDP are relatively skewed but they do not have few extreme values. However, for interest rate and savings rate, they have several extreme values in the quatile of 99%, which we think is caused by Covid-19 pandemic."
   ]
  },
  {
   "cell_type": "markdown",
   "id": "4806c3ec",
   "metadata": {},
   "source": [
    "**Calculation of Correlation Coefficients**"
   ]
  },
  {
   "cell_type": "code",
   "execution_count": 15,
   "id": "ae834907",
   "metadata": {
    "scrolled": false
   },
   "outputs": [
    {
     "data": {
      "text/html": [
       "<div>\n",
       "<style scoped>\n",
       "    .dataframe tbody tr th:only-of-type {\n",
       "        vertical-align: middle;\n",
       "    }\n",
       "\n",
       "    .dataframe tbody tr th {\n",
       "        vertical-align: top;\n",
       "    }\n",
       "\n",
       "    .dataframe thead th {\n",
       "        text-align: right;\n",
       "    }\n",
       "</style>\n",
       "<table border=\"1\" class=\"dataframe\">\n",
       "  <thead>\n",
       "    <tr style=\"text-align: right;\">\n",
       "      <th></th>\n",
       "      <th>House_price</th>\n",
       "      <th>Population</th>\n",
       "      <th>GDP</th>\n",
       "      <th>CPI</th>\n",
       "      <th>Interest</th>\n",
       "      <th>Income</th>\n",
       "      <th>Unemployment</th>\n",
       "      <th>Saving</th>\n",
       "      <th>Covid</th>\n",
       "    </tr>\n",
       "  </thead>\n",
       "  <tbody>\n",
       "    <tr>\n",
       "      <th>House_price</th>\n",
       "      <td>1.000000</td>\n",
       "      <td>0.917407</td>\n",
       "      <td>0.927595</td>\n",
       "      <td>0.973743</td>\n",
       "      <td>0.311733</td>\n",
       "      <td>0.915357</td>\n",
       "      <td>-0.510883</td>\n",
       "      <td>0.422906</td>\n",
       "      <td>0.747252</td>\n",
       "    </tr>\n",
       "    <tr>\n",
       "      <th>Population</th>\n",
       "      <td>0.917407</td>\n",
       "      <td>1.000000</td>\n",
       "      <td>0.960609</td>\n",
       "      <td>0.946187</td>\n",
       "      <td>0.492452</td>\n",
       "      <td>0.924886</td>\n",
       "      <td>-0.650114</td>\n",
       "      <td>0.423505</td>\n",
       "      <td>0.558676</td>\n",
       "    </tr>\n",
       "    <tr>\n",
       "      <th>GDP</th>\n",
       "      <td>0.927595</td>\n",
       "      <td>0.960609</td>\n",
       "      <td>1.000000</td>\n",
       "      <td>0.946783</td>\n",
       "      <td>0.539856</td>\n",
       "      <td>0.871311</td>\n",
       "      <td>-0.751566</td>\n",
       "      <td>0.242816</td>\n",
       "      <td>0.512015</td>\n",
       "    </tr>\n",
       "    <tr>\n",
       "      <th>CPI</th>\n",
       "      <td>0.973743</td>\n",
       "      <td>0.946187</td>\n",
       "      <td>0.946783</td>\n",
       "      <td>1.000000</td>\n",
       "      <td>0.360136</td>\n",
       "      <td>0.917489</td>\n",
       "      <td>-0.554707</td>\n",
       "      <td>0.420749</td>\n",
       "      <td>0.705019</td>\n",
       "    </tr>\n",
       "    <tr>\n",
       "      <th>Interest</th>\n",
       "      <td>0.311733</td>\n",
       "      <td>0.492452</td>\n",
       "      <td>0.539856</td>\n",
       "      <td>0.360136</td>\n",
       "      <td>1.000000</td>\n",
       "      <td>0.344047</td>\n",
       "      <td>-0.629991</td>\n",
       "      <td>-0.126265</td>\n",
       "      <td>-0.233058</td>\n",
       "    </tr>\n",
       "    <tr>\n",
       "      <th>Income</th>\n",
       "      <td>0.915357</td>\n",
       "      <td>0.924886</td>\n",
       "      <td>0.871311</td>\n",
       "      <td>0.917489</td>\n",
       "      <td>0.344047</td>\n",
       "      <td>1.000000</td>\n",
       "      <td>-0.402141</td>\n",
       "      <td>0.679184</td>\n",
       "      <td>0.724173</td>\n",
       "    </tr>\n",
       "    <tr>\n",
       "      <th>Unemployment</th>\n",
       "      <td>-0.510883</td>\n",
       "      <td>-0.650114</td>\n",
       "      <td>-0.751566</td>\n",
       "      <td>-0.554707</td>\n",
       "      <td>-0.629991</td>\n",
       "      <td>-0.402141</td>\n",
       "      <td>1.000000</td>\n",
       "      <td>0.313540</td>\n",
       "      <td>0.091800</td>\n",
       "    </tr>\n",
       "    <tr>\n",
       "      <th>Saving</th>\n",
       "      <td>0.422906</td>\n",
       "      <td>0.423505</td>\n",
       "      <td>0.242816</td>\n",
       "      <td>0.420749</td>\n",
       "      <td>-0.126265</td>\n",
       "      <td>0.679184</td>\n",
       "      <td>0.313540</td>\n",
       "      <td>1.000000</td>\n",
       "      <td>0.674658</td>\n",
       "    </tr>\n",
       "    <tr>\n",
       "      <th>Covid</th>\n",
       "      <td>0.747252</td>\n",
       "      <td>0.558676</td>\n",
       "      <td>0.512015</td>\n",
       "      <td>0.705019</td>\n",
       "      <td>-0.233058</td>\n",
       "      <td>0.724173</td>\n",
       "      <td>0.091800</td>\n",
       "      <td>0.674658</td>\n",
       "      <td>1.000000</td>\n",
       "    </tr>\n",
       "  </tbody>\n",
       "</table>\n",
       "</div>"
      ],
      "text/plain": [
       "              House_price  Population       GDP       CPI  Interest    Income  \\\n",
       "House_price      1.000000    0.917407  0.927595  0.973743  0.311733  0.915357   \n",
       "Population       0.917407    1.000000  0.960609  0.946187  0.492452  0.924886   \n",
       "GDP              0.927595    0.960609  1.000000  0.946783  0.539856  0.871311   \n",
       "CPI              0.973743    0.946187  0.946783  1.000000  0.360136  0.917489   \n",
       "Interest         0.311733    0.492452  0.539856  0.360136  1.000000  0.344047   \n",
       "Income           0.915357    0.924886  0.871311  0.917489  0.344047  1.000000   \n",
       "Unemployment    -0.510883   -0.650114 -0.751566 -0.554707 -0.629991 -0.402141   \n",
       "Saving           0.422906    0.423505  0.242816  0.420749 -0.126265  0.679184   \n",
       "Covid            0.747252    0.558676  0.512015  0.705019 -0.233058  0.724173   \n",
       "\n",
       "              Unemployment    Saving     Covid  \n",
       "House_price      -0.510883  0.422906  0.747252  \n",
       "Population       -0.650114  0.423505  0.558676  \n",
       "GDP              -0.751566  0.242816  0.512015  \n",
       "CPI              -0.554707  0.420749  0.705019  \n",
       "Interest         -0.629991 -0.126265 -0.233058  \n",
       "Income           -0.402141  0.679184  0.724173  \n",
       "Unemployment      1.000000  0.313540  0.091800  \n",
       "Saving            0.313540  1.000000  0.674658  \n",
       "Covid             0.091800  0.674658  1.000000  "
      ]
     },
     "execution_count": 15,
     "metadata": {},
     "output_type": "execute_result"
    }
   ],
   "source": [
    "#calculate correlation coefficients\n",
    "Data.corr()"
   ]
  },
  {
   "cell_type": "markdown",
   "id": "54707db8",
   "metadata": {},
   "source": [
    "From correlation table, we find that House_price has a strong correlation with Population, GDP, CPI, Income and Covid. But GDP has a high correlation with CPI, Population, Income and Unemployment rate, implying they may have the possibility of multicollinearity."
   ]
  },
  {
   "cell_type": "markdown",
   "id": "b3030527",
   "metadata": {},
   "source": [
    "**VIF Test**"
   ]
  },
  {
   "cell_type": "code",
   "execution_count": 16,
   "id": "af4b1764",
   "metadata": {},
   "outputs": [
    {
     "data": {
      "text/html": [
       "<div>\n",
       "<style scoped>\n",
       "    .dataframe tbody tr th:only-of-type {\n",
       "        vertical-align: middle;\n",
       "    }\n",
       "\n",
       "    .dataframe tbody tr th {\n",
       "        vertical-align: top;\n",
       "    }\n",
       "\n",
       "    .dataframe thead th {\n",
       "        text-align: right;\n",
       "    }\n",
       "</style>\n",
       "<table border=\"1\" class=\"dataframe\">\n",
       "  <thead>\n",
       "    <tr style=\"text-align: right;\">\n",
       "      <th></th>\n",
       "      <th>VIF</th>\n",
       "      <th>variable</th>\n",
       "    </tr>\n",
       "  </thead>\n",
       "  <tbody>\n",
       "    <tr>\n",
       "      <th>0</th>\n",
       "      <td>35546.761807</td>\n",
       "      <td>Intercept</td>\n",
       "    </tr>\n",
       "    <tr>\n",
       "      <th>1</th>\n",
       "      <td>11.667177</td>\n",
       "      <td>Covid</td>\n",
       "    </tr>\n",
       "    <tr>\n",
       "      <th>2</th>\n",
       "      <td>36.489061</td>\n",
       "      <td>Population</td>\n",
       "    </tr>\n",
       "    <tr>\n",
       "      <th>3</th>\n",
       "      <td>198.253740</td>\n",
       "      <td>GDP</td>\n",
       "    </tr>\n",
       "    <tr>\n",
       "      <th>4</th>\n",
       "      <td>31.505144</td>\n",
       "      <td>CPI</td>\n",
       "    </tr>\n",
       "    <tr>\n",
       "      <th>5</th>\n",
       "      <td>3.750961</td>\n",
       "      <td>Interest</td>\n",
       "    </tr>\n",
       "    <tr>\n",
       "      <th>6</th>\n",
       "      <td>141.189876</td>\n",
       "      <td>Income</td>\n",
       "    </tr>\n",
       "    <tr>\n",
       "      <th>7</th>\n",
       "      <td>14.465925</td>\n",
       "      <td>Unemployment</td>\n",
       "    </tr>\n",
       "    <tr>\n",
       "      <th>8</th>\n",
       "      <td>44.149595</td>\n",
       "      <td>Saving</td>\n",
       "    </tr>\n",
       "  </tbody>\n",
       "</table>\n",
       "</div>"
      ],
      "text/plain": [
       "            VIF      variable\n",
       "0  35546.761807     Intercept\n",
       "1     11.667177         Covid\n",
       "2     36.489061    Population\n",
       "3    198.253740           GDP\n",
       "4     31.505144           CPI\n",
       "5      3.750961      Interest\n",
       "6    141.189876        Income\n",
       "7     14.465925  Unemployment\n",
       "8     44.149595        Saving"
      ]
     },
     "execution_count": 16,
     "metadata": {},
     "output_type": "execute_result"
    }
   ],
   "source": [
    "from patsy import dmatrices\n",
    "from statsmodels.stats.outliers_influence import variance_inflation_factor\n",
    "\n",
    "#find design matrix for linear regression model using 'rating' as response variable \n",
    "y, X = dmatrices('House_price ~ Covid+Population+GDP+CPI+Interest+Income+Unemployment+Saving', data=Data, return_type='dataframe')\n",
    "\n",
    "#calculate VIF for each explanatory variable\n",
    "vif = pd.DataFrame()\n",
    "vif['VIF'] = [variance_inflation_factor(X.values, i) for i in range(X.shape[1])]\n",
    "vif['variable'] = X.columns\n",
    "\n",
    "#view VIF for each explanatory variable \n",
    "vif"
   ]
  },
  {
   "cell_type": "markdown",
   "id": "d77526cb",
   "metadata": {},
   "source": [
    "In VIF table, the value of GDP, Income, Saving, CPI, Population and Saving are high. They have the issue of muticollinearity. Therefore, we try to drop some variables."
   ]
  },
  {
   "cell_type": "code",
   "execution_count": 17,
   "id": "650e8fe7",
   "metadata": {
    "scrolled": false
   },
   "outputs": [
    {
     "data": {
      "text/html": [
       "<div>\n",
       "<style scoped>\n",
       "    .dataframe tbody tr th:only-of-type {\n",
       "        vertical-align: middle;\n",
       "    }\n",
       "\n",
       "    .dataframe tbody tr th {\n",
       "        vertical-align: top;\n",
       "    }\n",
       "\n",
       "    .dataframe thead th {\n",
       "        text-align: right;\n",
       "    }\n",
       "</style>\n",
       "<table border=\"1\" class=\"dataframe\">\n",
       "  <thead>\n",
       "    <tr style=\"text-align: right;\">\n",
       "      <th></th>\n",
       "      <th>VIF</th>\n",
       "      <th>variable</th>\n",
       "    </tr>\n",
       "  </thead>\n",
       "  <tbody>\n",
       "    <tr>\n",
       "      <th>0</th>\n",
       "      <td>290.277775</td>\n",
       "      <td>Intercept</td>\n",
       "    </tr>\n",
       "    <tr>\n",
       "      <th>1</th>\n",
       "      <td>2.403852</td>\n",
       "      <td>Covid</td>\n",
       "    </tr>\n",
       "    <tr>\n",
       "      <th>2</th>\n",
       "      <td>1.391764</td>\n",
       "      <td>GDP</td>\n",
       "    </tr>\n",
       "    <tr>\n",
       "      <th>3</th>\n",
       "      <td>1.884786</td>\n",
       "      <td>Saving</td>\n",
       "    </tr>\n",
       "  </tbody>\n",
       "</table>\n",
       "</div>"
      ],
      "text/plain": [
       "          VIF   variable\n",
       "0  290.277775  Intercept\n",
       "1    2.403852      Covid\n",
       "2    1.391764        GDP\n",
       "3    1.884786     Saving"
      ]
     },
     "execution_count": 17,
     "metadata": {},
     "output_type": "execute_result"
    }
   ],
   "source": [
    "#find design matrix for linear regression model using 'House_price' as response variable \n",
    "y, X = dmatrices('House_price ~ Covid+GDP+Saving', data=Data, return_type='dataframe')\n",
    "\n",
    "#calculate VIF for each explanatory variable\n",
    "vif = pd.DataFrame()\n",
    "vif['VIF'] = [variance_inflation_factor(X.values, i) for i in range(X.shape[1])]\n",
    "vif['variable'] = X.columns\n",
    "\n",
    "#view VIF for each explanatory variable \n",
    "vif"
   ]
  },
  {
   "cell_type": "markdown",
   "id": "66add0db",
   "metadata": {},
   "source": [
    "We only keep Covid, GDP and Saving rate as independent variables. Now, values of VIF are small. We no longer have the issue of multicollinearity."
   ]
  },
  {
   "cell_type": "code",
   "execution_count": 18,
   "id": "6c3f5172",
   "metadata": {},
   "outputs": [
    {
     "data": {
      "text/html": [
       "<table class=\"simpletable\">\n",
       "<caption>OLS Regression Results</caption>\n",
       "<tr>\n",
       "  <th>Dep. Variable:</th>       <td>House_price</td>   <th>  R-squared:         </th> <td>   0.961</td>\n",
       "</tr>\n",
       "<tr>\n",
       "  <th>Model:</th>                   <td>OLS</td>       <th>  Adj. R-squared:    </th> <td>   0.960</td>\n",
       "</tr>\n",
       "<tr>\n",
       "  <th>Method:</th>             <td>Least Squares</td>  <th>  F-statistic:       </th> <td>   1158.</td>\n",
       "</tr>\n",
       "<tr>\n",
       "  <th>Date:</th>             <td>Sun, 01 May 2022</td> <th>  Prob (F-statistic):</th> <td>4.47e-99</td>\n",
       "</tr>\n",
       "<tr>\n",
       "  <th>Time:</th>                 <td>21:14:21</td>     <th>  Log-Likelihood:    </th> <td> -492.59</td>\n",
       "</tr>\n",
       "<tr>\n",
       "  <th>No. Observations:</th>      <td>   145</td>      <th>  AIC:               </th> <td>   993.2</td>\n",
       "</tr>\n",
       "<tr>\n",
       "  <th>Df Residuals:</th>          <td>   141</td>      <th>  BIC:               </th> <td>   1005.</td>\n",
       "</tr>\n",
       "<tr>\n",
       "  <th>Df Model:</th>              <td>     3</td>      <th>                     </th>     <td> </td>   \n",
       "</tr>\n",
       "<tr>\n",
       "  <th>Covariance Type:</th>      <td>nonrobust</td>    <th>                     </th>     <td> </td>   \n",
       "</tr>\n",
       "</table>\n",
       "<table class=\"simpletable\">\n",
       "<tr>\n",
       "      <td></td>         <th>coef</th>     <th>std err</th>      <th>t</th>      <th>P>|t|</th>  <th>[0.025</th>    <th>0.975]</th>  \n",
       "</tr>\n",
       "<tr>\n",
       "  <th>Intercept</th> <td> -203.7385</td> <td>   10.373</td> <td>  -19.641</td> <td> 0.000</td> <td> -224.246</td> <td> -183.231</td>\n",
       "</tr>\n",
       "<tr>\n",
       "  <th>Covid</th>     <td>   37.1012</td> <td>    2.540</td> <td>   14.607</td> <td> 0.000</td> <td>   32.080</td> <td>   42.123</td>\n",
       "</tr>\n",
       "<tr>\n",
       "  <th>GDP</th>       <td>    0.0218</td> <td>    0.001</td> <td>   37.567</td> <td> 0.000</td> <td>    0.021</td> <td>    0.023</td>\n",
       "</tr>\n",
       "<tr>\n",
       "  <th>Saving</th>    <td>   -0.0985</td> <td>    0.219</td> <td>   -0.449</td> <td> 0.654</td> <td>   -0.532</td> <td>    0.335</td>\n",
       "</tr>\n",
       "</table>\n",
       "<table class=\"simpletable\">\n",
       "<tr>\n",
       "  <th>Omnibus:</th>       <td>31.317</td> <th>  Durbin-Watson:     </th> <td>   0.717</td>\n",
       "</tr>\n",
       "<tr>\n",
       "  <th>Prob(Omnibus):</th> <td> 0.000</td> <th>  Jarque-Bera (JB):  </th> <td> 254.050</td>\n",
       "</tr>\n",
       "<tr>\n",
       "  <th>Skew:</th>          <td>-0.325</td> <th>  Prob(JB):          </th> <td>6.82e-56</td>\n",
       "</tr>\n",
       "<tr>\n",
       "  <th>Kurtosis:</th>      <td> 9.452</td> <th>  Cond. No.          </th> <td>3.02e+05</td>\n",
       "</tr>\n",
       "</table><br/><br/>Notes:<br/>[1] Standard Errors assume that the covariance matrix of the errors is correctly specified.<br/>[2] The condition number is large, 3.02e+05. This might indicate that there are<br/>strong multicollinearity or other numerical problems."
      ],
      "text/plain": [
       "<class 'statsmodels.iolib.summary.Summary'>\n",
       "\"\"\"\n",
       "                            OLS Regression Results                            \n",
       "==============================================================================\n",
       "Dep. Variable:            House_price   R-squared:                       0.961\n",
       "Model:                            OLS   Adj. R-squared:                  0.960\n",
       "Method:                 Least Squares   F-statistic:                     1158.\n",
       "Date:                Sun, 01 May 2022   Prob (F-statistic):           4.47e-99\n",
       "Time:                        21:14:21   Log-Likelihood:                -492.59\n",
       "No. Observations:                 145   AIC:                             993.2\n",
       "Df Residuals:                     141   BIC:                             1005.\n",
       "Df Model:                           3                                         \n",
       "Covariance Type:            nonrobust                                         \n",
       "==============================================================================\n",
       "                 coef    std err          t      P>|t|      [0.025      0.975]\n",
       "------------------------------------------------------------------------------\n",
       "Intercept   -203.7385     10.373    -19.641      0.000    -224.246    -183.231\n",
       "Covid         37.1012      2.540     14.607      0.000      32.080      42.123\n",
       "GDP            0.0218      0.001     37.567      0.000       0.021       0.023\n",
       "Saving        -0.0985      0.219     -0.449      0.654      -0.532       0.335\n",
       "==============================================================================\n",
       "Omnibus:                       31.317   Durbin-Watson:                   0.717\n",
       "Prob(Omnibus):                  0.000   Jarque-Bera (JB):              254.050\n",
       "Skew:                          -0.325   Prob(JB):                     6.82e-56\n",
       "Kurtosis:                       9.452   Cond. No.                     3.02e+05\n",
       "==============================================================================\n",
       "\n",
       "Notes:\n",
       "[1] Standard Errors assume that the covariance matrix of the errors is correctly specified.\n",
       "[2] The condition number is large, 3.02e+05. This might indicate that there are\n",
       "strong multicollinearity or other numerical problems.\n",
       "\"\"\""
      ]
     },
     "execution_count": 18,
     "metadata": {},
     "output_type": "execute_result"
    }
   ],
   "source": [
    "# fit multiple linear regression model\n",
    "model = ols('House_price ~ Covid + GDP + Saving', data=Data).fit()\n",
    "model.summary()"
   ]
  },
  {
   "cell_type": "markdown",
   "id": "2178dd87",
   "metadata": {},
   "source": [
    "# Models"
   ]
  },
  {
   "cell_type": "markdown",
   "id": "b9ffd593",
   "metadata": {},
   "source": [
    "**1.Without Covariates**\n",
    "\n",
    "$Y_i = a+b*T+e_i$  \n",
    "\n",
    "$Y_{i}$: House_price\n",
    "\n",
    "$T$: beore Covid-19 or after Covid-19"
   ]
  },
  {
   "cell_type": "code",
   "execution_count": 19,
   "id": "93c81403",
   "metadata": {},
   "outputs": [
    {
     "name": "stdout",
     "output_type": "stream",
     "text": [
      "                            OLS Regression Results                            \n",
      "==============================================================================\n",
      "Dep. Variable:            House_price   R-squared:                       0.558\n",
      "Model:                            OLS   Adj. R-squared:                  0.555\n",
      "Method:                 Least Squares   F-statistic:                     180.8\n",
      "Date:                Sun, 01 May 2022   Prob (F-statistic):           3.70e-27\n",
      "Time:                        21:14:21   Log-Likelihood:                -668.51\n",
      "No. Observations:                 145   AIC:                             1341.\n",
      "Df Residuals:                     143   BIC:                             1347.\n",
      "Df Model:                           1                                         \n",
      "Covariance Type:            nonrobust                                         \n",
      "==============================================================================\n",
      "                 coef    std err          t      P>|t|      [0.025      0.975]\n",
      "------------------------------------------------------------------------------\n",
      "Intercept    170.4308      2.227     76.540      0.000     166.029     174.832\n",
      "Covid         73.5957      5.473     13.447      0.000      62.777      84.415\n",
      "==============================================================================\n",
      "Omnibus:                      103.666   Durbin-Watson:                   0.065\n",
      "Prob(Omnibus):                  0.000   Jarque-Bera (JB):               11.460\n",
      "Skew:                           0.227   Prob(JB):                      0.00325\n",
      "Kurtosis:                       1.699   Cond. No.                         2.78\n",
      "==============================================================================\n",
      "\n",
      "Notes:\n",
      "[1] Standard Errors assume that the covariance matrix of the errors is correctly specified.\n"
     ]
    }
   ],
   "source": [
    "#fit simple linear regression model\n",
    "model = ols('House_price ~ Covid', data=Data).fit()\n",
    "#view model summary\n",
    "print(model.summary())"
   ]
  },
  {
   "cell_type": "markdown",
   "id": "c5352950",
   "metadata": {},
   "source": [
    "**Residual Plot**"
   ]
  },
  {
   "cell_type": "code",
   "execution_count": 20,
   "id": "6a7e5c3f",
   "metadata": {},
   "outputs": [
    {
     "data": {
      "image/png": "[encoded data removed]",
      "text/plain": [
       "<Figure size 864x576 with 4 Axes>"
      ]
     },
     "metadata": {
      "needs_background": "light"
     },
     "output_type": "display_data"
    }
   ],
   "source": [
    "#define figure size\n",
    "fig = plt.figure(figsize=(12,8))\n",
    "#produce regression plots\n",
    "fig = sm.graphics.plot_regress_exog(model, 'Covid', fig=fig)"
   ]
  },
  {
   "cell_type": "markdown",
   "id": "176e71d8",
   "metadata": {},
   "source": [
    "The points are evenly distributed on both sides of the 0 level. There is no heteroscedasticity."
   ]
  },
  {
   "cell_type": "markdown",
   "id": "f11c9aae",
   "metadata": {},
   "source": [
    "**2. With Covariates**\n",
    "\n",
    "$Y_i = a+b*T+c*GDP+d*S+e_i$  \n",
    "\n",
    "$Y_{i}$: House_price\n",
    "\n",
    "$T$: beore Covid-19 or after Covid-19\n",
    "\n",
    "$S$: Saving Rate \n"
   ]
  },
  {
   "cell_type": "code",
   "execution_count": 21,
   "id": "f81ca3cf",
   "metadata": {},
   "outputs": [
    {
     "data": {
      "text/html": [
       "<table class=\"simpletable\">\n",
       "<caption>OLS Regression Results</caption>\n",
       "<tr>\n",
       "  <th>Dep. Variable:</th>       <td>House_price</td>   <th>  R-squared:         </th> <td>   0.961</td>\n",
       "</tr>\n",
       "<tr>\n",
       "  <th>Model:</th>                   <td>OLS</td>       <th>  Adj. R-squared:    </th> <td>   0.960</td>\n",
       "</tr>\n",
       "<tr>\n",
       "  <th>Method:</th>             <td>Least Squares</td>  <th>  F-statistic:       </th> <td>   1158.</td>\n",
       "</tr>\n",
       "<tr>\n",
       "  <th>Date:</th>             <td>Sun, 01 May 2022</td> <th>  Prob (F-statistic):</th> <td>4.47e-99</td>\n",
       "</tr>\n",
       "<tr>\n",
       "  <th>Time:</th>                 <td>21:14:22</td>     <th>  Log-Likelihood:    </th> <td> -492.59</td>\n",
       "</tr>\n",
       "<tr>\n",
       "  <th>No. Observations:</th>      <td>   145</td>      <th>  AIC:               </th> <td>   993.2</td>\n",
       "</tr>\n",
       "<tr>\n",
       "  <th>Df Residuals:</th>          <td>   141</td>      <th>  BIC:               </th> <td>   1005.</td>\n",
       "</tr>\n",
       "<tr>\n",
       "  <th>Df Model:</th>              <td>     3</td>      <th>                     </th>     <td> </td>   \n",
       "</tr>\n",
       "<tr>\n",
       "  <th>Covariance Type:</th>      <td>nonrobust</td>    <th>                     </th>     <td> </td>   \n",
       "</tr>\n",
       "</table>\n",
       "<table class=\"simpletable\">\n",
       "<tr>\n",
       "      <td></td>         <th>coef</th>     <th>std err</th>      <th>t</th>      <th>P>|t|</th>  <th>[0.025</th>    <th>0.975]</th>  \n",
       "</tr>\n",
       "<tr>\n",
       "  <th>Intercept</th> <td> -203.7385</td> <td>   10.373</td> <td>  -19.641</td> <td> 0.000</td> <td> -224.246</td> <td> -183.231</td>\n",
       "</tr>\n",
       "<tr>\n",
       "  <th>Covid</th>     <td>   37.1012</td> <td>    2.540</td> <td>   14.607</td> <td> 0.000</td> <td>   32.080</td> <td>   42.123</td>\n",
       "</tr>\n",
       "<tr>\n",
       "  <th>GDP</th>       <td>    0.0218</td> <td>    0.001</td> <td>   37.567</td> <td> 0.000</td> <td>    0.021</td> <td>    0.023</td>\n",
       "</tr>\n",
       "<tr>\n",
       "  <th>Saving</th>    <td>   -0.0985</td> <td>    0.219</td> <td>   -0.449</td> <td> 0.654</td> <td>   -0.532</td> <td>    0.335</td>\n",
       "</tr>\n",
       "</table>\n",
       "<table class=\"simpletable\">\n",
       "<tr>\n",
       "  <th>Omnibus:</th>       <td>31.317</td> <th>  Durbin-Watson:     </th> <td>   0.717</td>\n",
       "</tr>\n",
       "<tr>\n",
       "  <th>Prob(Omnibus):</th> <td> 0.000</td> <th>  Jarque-Bera (JB):  </th> <td> 254.050</td>\n",
       "</tr>\n",
       "<tr>\n",
       "  <th>Skew:</th>          <td>-0.325</td> <th>  Prob(JB):          </th> <td>6.82e-56</td>\n",
       "</tr>\n",
       "<tr>\n",
       "  <th>Kurtosis:</th>      <td> 9.452</td> <th>  Cond. No.          </th> <td>3.02e+05</td>\n",
       "</tr>\n",
       "</table><br/><br/>Notes:<br/>[1] Standard Errors assume that the covariance matrix of the errors is correctly specified.<br/>[2] The condition number is large, 3.02e+05. This might indicate that there are<br/>strong multicollinearity or other numerical problems."
      ],
      "text/plain": [
       "<class 'statsmodels.iolib.summary.Summary'>\n",
       "\"\"\"\n",
       "                            OLS Regression Results                            \n",
       "==============================================================================\n",
       "Dep. Variable:            House_price   R-squared:                       0.961\n",
       "Model:                            OLS   Adj. R-squared:                  0.960\n",
       "Method:                 Least Squares   F-statistic:                     1158.\n",
       "Date:                Sun, 01 May 2022   Prob (F-statistic):           4.47e-99\n",
       "Time:                        21:14:22   Log-Likelihood:                -492.59\n",
       "No. Observations:                 145   AIC:                             993.2\n",
       "Df Residuals:                     141   BIC:                             1005.\n",
       "Df Model:                           3                                         \n",
       "Covariance Type:            nonrobust                                         \n",
       "==============================================================================\n",
       "                 coef    std err          t      P>|t|      [0.025      0.975]\n",
       "------------------------------------------------------------------------------\n",
       "Intercept   -203.7385     10.373    -19.641      0.000    -224.246    -183.231\n",
       "Covid         37.1012      2.540     14.607      0.000      32.080      42.123\n",
       "GDP            0.0218      0.001     37.567      0.000       0.021       0.023\n",
       "Saving        -0.0985      0.219     -0.449      0.654      -0.532       0.335\n",
       "==============================================================================\n",
       "Omnibus:                       31.317   Durbin-Watson:                   0.717\n",
       "Prob(Omnibus):                  0.000   Jarque-Bera (JB):              254.050\n",
       "Skew:                          -0.325   Prob(JB):                     6.82e-56\n",
       "Kurtosis:                       9.452   Cond. No.                     3.02e+05\n",
       "==============================================================================\n",
       "\n",
       "Notes:\n",
       "[1] Standard Errors assume that the covariance matrix of the errors is correctly specified.\n",
       "[2] The condition number is large, 3.02e+05. This might indicate that there are\n",
       "strong multicollinearity or other numerical problems.\n",
       "\"\"\""
      ]
     },
     "execution_count": 21,
     "metadata": {},
     "output_type": "execute_result"
    }
   ],
   "source": [
    "# fit multiple linear regression model\n",
    "model = ols('House_price ~ Covid + GDP + Saving', data=Data).fit()\n",
    "model.summary()"
   ]
  },
  {
   "cell_type": "markdown",
   "id": "49282f3f",
   "metadata": {},
   "source": [
    "With Covariates, adjusted R square increases from 0.555 to 0.96, indicating that the ability to explain variables becomes stronger. The model fits better. Besides, the coefficient estimate of Covid is smaller, suggesting that adding covariates makes the coefficient estimate more accurate."
   ]
  },
  {
   "cell_type": "markdown",
   "id": "88a3871b",
   "metadata": {},
   "source": [
    "**Residual Plot**"
   ]
  },
  {
   "cell_type": "code",
   "execution_count": 22,
   "id": "7bf6c499",
   "metadata": {},
   "outputs": [
    {
     "data": {
      "image/png": "[encoded data removed]",
      "text/plain": [
       "<Figure size 864x576 with 4 Axes>"
      ]
     },
     "metadata": {
      "needs_background": "light"
     },
     "output_type": "display_data"
    }
   ],
   "source": [
    "fig = plt.figure(figsize=(12,8))\n",
    "fig = sm.graphics.plot_regress_exog(model, 'Covid', fig=fig)"
   ]
  },
  {
   "cell_type": "markdown",
   "id": "25498117",
   "metadata": {},
   "source": [
    "The points are evenly distributed on both sides of the 0 level. There is no heteroscedasticity."
   ]
  },
  {
   "cell_type": "markdown",
   "id": "63fbc9cc",
   "metadata": {},
   "source": [
    "**3. Regressions with lag variables**\n",
    "\n",
    "$Y_{t+i} = a+b*T+c*GDP_t+d*S_t+e_i$  \n",
    "\n",
    "$Y_{i}$: House_price\n",
    "\n",
    "$T$: beore Covid-19 or after Covid-19\n",
    "\n",
    "$S$: Saving Rate \n",
    "\n",
    "$i$: Number of lag periods\n",
    "\n",
    "To study the potential hysteresis effect of the Covid-19 treatment, we create the variables representing Housing prices in future months and run regressions with these lag variables."
   ]
  },
  {
   "cell_type": "code",
   "execution_count": 23,
   "id": "88bb977b",
   "metadata": {},
   "outputs": [
    {
     "name": "stdout",
     "output_type": "stream",
     "text": [
      "          DATE  House_price  Population        GDP         CPI  Interest  \\\n",
      "0   2010-01-01      147.395    308706.0  15399.668   91.422556  0.110000   \n",
      "1   2010-02-01      145.631    308904.0  15435.796   91.445339  0.126429   \n",
      "2   2010-03-01      145.859    309095.0  15532.733   91.820840  0.164516   \n",
      "3   2010-04-01      146.399    309289.0  15593.137   91.980322  0.198333   \n",
      "4   2010-05-01      146.389    309485.0  15574.485   92.051625  0.200645   \n",
      "..         ...          ...         ...        ...         ...       ...   \n",
      "140 2021-09-01      270.362    332403.0  19576.597  115.734314  0.079333   \n",
      "141 2021-10-01      273.254    332513.0  19887.311  116.695849  0.079032   \n",
      "142 2021-11-01      276.478    332598.0  19778.149  117.269225  0.079667   \n",
      "143 2021-12-01      279.954    332640.0  19785.732  117.629537  0.079677   \n",
      "144 2022-01-01      284.330    332684.0  19784.287  118.619339  0.079355   \n",
      "\n",
      "      Income  Unemployment  Saving  Covid  House_price_1  House_price_2  \\\n",
      "0    11644.6           9.8     5.9      0        145.631        145.859   \n",
      "1    11655.6           9.8     5.6      0        145.859        146.399   \n",
      "2    11702.1           9.9     5.6      0        146.399        146.389   \n",
      "3    11799.8           9.9     6.2      0        146.389        145.717   \n",
      "4    11887.9           9.6     6.7      0        145.717        144.986   \n",
      "..       ...           ...     ...    ...            ...            ...   \n",
      "140  15466.3           4.7     8.1      1        273.254        276.478   \n",
      "141  15444.5           4.6     7.3      1        276.478        279.954   \n",
      "142  15423.2           4.2     7.3      1        279.954        284.330   \n",
      "143  15385.4           3.9     8.4      1        284.330            NaN   \n",
      "144  15321.4           4.0     6.7      1            NaN            NaN   \n",
      "\n",
      "     House_price_3  \n",
      "0          146.399  \n",
      "1          146.389  \n",
      "2          145.717  \n",
      "3          144.986  \n",
      "4          143.911  \n",
      "..             ...  \n",
      "140        279.954  \n",
      "141        284.330  \n",
      "142            NaN  \n",
      "143            NaN  \n",
      "144            NaN  \n",
      "\n",
      "[145 rows x 13 columns]\n"
     ]
    }
   ],
   "source": [
    "#Create lag variables\n",
    "Data['House_price_1'] = Data['House_price'].shift(-1) #Housing price of next month \n",
    "Data['House_price_2'] = Data['House_price'].shift(-2) #Housing price of next second month \n",
    "Data['House_price_3'] = Data['House_price'].shift(-3) #Housing price of next third month \n",
    "print(Data)"
   ]
  },
  {
   "cell_type": "markdown",
   "id": "850a1e2e",
   "metadata": {},
   "source": [
    "**3.1 Lag one month**\n",
    "\n",
    "$Y_{t+1} = a+b*T+c*GDP_t+d*Saving_t+e_i$"
   ]
  },
  {
   "cell_type": "code",
   "execution_count": 24,
   "id": "7882de8e",
   "metadata": {},
   "outputs": [
    {
     "name": "stdout",
     "output_type": "stream",
     "text": [
      "                            OLS Regression Results                            \n",
      "==============================================================================\n",
      "Dep. Variable:          House_price_1   R-squared:                       0.964\n",
      "Model:                            OLS   Adj. R-squared:                  0.963\n",
      "Method:                 Least Squares   F-statistic:                     1244.\n",
      "Date:                Sun, 01 May 2022   Prob (F-statistic):          1.11e-100\n",
      "Time:                        21:14:22   Log-Likelihood:                -483.75\n",
      "No. Observations:                 144   AIC:                             975.5\n",
      "Df Residuals:                     140   BIC:                             987.4\n",
      "Df Model:                           3                                         \n",
      "Covariance Type:            nonrobust                                         \n",
      "==============================================================================\n",
      "                 coef    std err          t      P>|t|      [0.025      0.975]\n",
      "------------------------------------------------------------------------------\n",
      "const       -208.3888      9.990    -20.859      0.000    -228.140    -188.638\n",
      "GDP            0.0220      0.001     39.458      0.000       0.021       0.023\n",
      "Covid         37.4864      2.519     14.884      0.000      32.507      42.466\n",
      "Saving        -0.0035      0.216     -0.016      0.987      -0.431       0.424\n",
      "==============================================================================\n",
      "Omnibus:                       39.155   Durbin-Watson:                   0.747\n",
      "Prob(Omnibus):                  0.000   Jarque-Bera (JB):              312.385\n",
      "Skew:                          -0.617   Prob(JB):                     1.47e-68\n",
      "Kurtosis:                      10.109   Cond. No.                     3.01e+05\n",
      "==============================================================================\n",
      "\n",
      "Notes:\n",
      "[1] Standard Errors assume that the covariance matrix of the errors is correctly specified.\n",
      "[2] The condition number is large, 3.01e+05. This might indicate that there are\n",
      "strong multicollinearity or other numerical problems.\n"
     ]
    }
   ],
   "source": [
    "# lag regression (One month)\n",
    "Data1 = Data.drop([144])\n",
    "y = Data1['House_price_1']\n",
    "x = Data1[['GDP','Covid','Saving']]\n",
    "x = sm.add_constant(x)\n",
    "model = sm.OLS(y, x).fit()\n",
    "\n",
    "print(model.summary())"
   ]
  },
  {
   "cell_type": "code",
   "execution_count": 25,
   "id": "612f24f1",
   "metadata": {},
   "outputs": [
    {
     "data": {
      "text/html": [
       "<div>\n",
       "<style scoped>\n",
       "    .dataframe tbody tr th:only-of-type {\n",
       "        vertical-align: middle;\n",
       "    }\n",
       "\n",
       "    .dataframe tbody tr th {\n",
       "        vertical-align: top;\n",
       "    }\n",
       "\n",
       "    .dataframe thead th {\n",
       "        text-align: right;\n",
       "    }\n",
       "</style>\n",
       "<table border=\"1\" class=\"dataframe\">\n",
       "  <thead>\n",
       "    <tr style=\"text-align: right;\">\n",
       "      <th></th>\n",
       "      <th>VIF</th>\n",
       "      <th>variable</th>\n",
       "    </tr>\n",
       "  </thead>\n",
       "  <tbody>\n",
       "    <tr>\n",
       "      <th>0</th>\n",
       "      <td>288.276807</td>\n",
       "      <td>const</td>\n",
       "    </tr>\n",
       "    <tr>\n",
       "      <th>1</th>\n",
       "      <td>1.360618</td>\n",
       "      <td>GDP</td>\n",
       "    </tr>\n",
       "    <tr>\n",
       "      <th>2</th>\n",
       "      <td>2.459180</td>\n",
       "      <td>Covid</td>\n",
       "    </tr>\n",
       "    <tr>\n",
       "      <th>3</th>\n",
       "      <td>1.974263</td>\n",
       "      <td>Saving</td>\n",
       "    </tr>\n",
       "  </tbody>\n",
       "</table>\n",
       "</div>"
      ],
      "text/plain": [
       "          VIF variable\n",
       "0  288.276807    const\n",
       "1    1.360618      GDP\n",
       "2    2.459180    Covid\n",
       "3    1.974263   Saving"
      ]
     },
     "execution_count": 25,
     "metadata": {},
     "output_type": "execute_result"
    }
   ],
   "source": [
    "vif = pd.DataFrame()\n",
    "vif['VIF'] = [variance_inflation_factor(x.values, i) for i in range(x.shape[1])]\n",
    "vif['variable'] = x.columns\n",
    "\n",
    "vif"
   ]
  },
  {
   "cell_type": "markdown",
   "id": "8abd5572",
   "metadata": {},
   "source": [
    "**3.2 Lag two months**\n",
    "\n",
    "$Y_{t+2} = a+b*T+c*GDP_t+d*Saving_t+e_i$  "
   ]
  },
  {
   "cell_type": "code",
   "execution_count": 26,
   "id": "08cb2189",
   "metadata": {},
   "outputs": [
    {
     "name": "stdout",
     "output_type": "stream",
     "text": [
      "                            OLS Regression Results                            \n",
      "==============================================================================\n",
      "Dep. Variable:          House_price_2   R-squared:                       0.966\n",
      "Model:                            OLS   Adj. R-squared:                  0.965\n",
      "Method:                 Least Squares   F-statistic:                     1302.\n",
      "Date:                Sun, 01 May 2022   Prob (F-statistic):          1.65e-101\n",
      "Time:                        21:14:22   Log-Likelihood:                -476.71\n",
      "No. Observations:                 143   AIC:                             961.4\n",
      "Df Residuals:                     139   BIC:                             973.3\n",
      "Df Model:                           3                                         \n",
      "Covariance Type:            nonrobust                                         \n",
      "==============================================================================\n",
      "                 coef    std err          t      P>|t|      [0.025      0.975]\n",
      "------------------------------------------------------------------------------\n",
      "const       -212.2438      9.738    -21.795      0.000    -231.498    -192.990\n",
      "GDP            0.0222      0.001     40.847      0.000       0.021       0.023\n",
      "Covid         38.0377      2.515     15.123      0.000      33.065      43.011\n",
      "Saving         0.0892      0.214      0.416      0.678      -0.335       0.513\n",
      "==============================================================================\n",
      "Omnibus:                       49.850   Durbin-Watson:                   0.769\n",
      "Prob(Omnibus):                  0.000   Jarque-Bera (JB):              414.662\n",
      "Skew:                          -0.916   Prob(JB):                     9.06e-91\n",
      "Kurtosis:                      11.139   Cond. No.                     2.99e+05\n",
      "==============================================================================\n",
      "\n",
      "Notes:\n",
      "[1] Standard Errors assume that the covariance matrix of the errors is correctly specified.\n",
      "[2] The condition number is large, 2.99e+05. This might indicate that there are\n",
      "strong multicollinearity or other numerical problems.\n"
     ]
    }
   ],
   "source": [
    "# lag regression (Two months)\n",
    "Data2 = Data.drop([143,144])\n",
    "y = Data2['House_price_2']\n",
    "x = Data2[['GDP','Covid','Saving']]\n",
    "x = sm.add_constant(x)\n",
    "model = sm.OLS(y, x).fit()\n",
    "\n",
    "print(model.summary())"
   ]
  },
  {
   "cell_type": "code",
   "execution_count": 27,
   "id": "42f7f026",
   "metadata": {},
   "outputs": [
    {
     "data": {
      "text/html": [
       "<div>\n",
       "<style scoped>\n",
       "    .dataframe tbody tr th:only-of-type {\n",
       "        vertical-align: middle;\n",
       "    }\n",
       "\n",
       "    .dataframe tbody tr th {\n",
       "        vertical-align: top;\n",
       "    }\n",
       "\n",
       "    .dataframe thead th {\n",
       "        text-align: right;\n",
       "    }\n",
       "</style>\n",
       "<table border=\"1\" class=\"dataframe\">\n",
       "  <thead>\n",
       "    <tr style=\"text-align: right;\">\n",
       "      <th></th>\n",
       "      <th>VIF</th>\n",
       "      <th>variable</th>\n",
       "    </tr>\n",
       "  </thead>\n",
       "  <tbody>\n",
       "    <tr>\n",
       "      <th>0</th>\n",
       "      <td>286.334848</td>\n",
       "      <td>const</td>\n",
       "    </tr>\n",
       "    <tr>\n",
       "      <th>1</th>\n",
       "      <td>1.330068</td>\n",
       "      <td>GDP</td>\n",
       "    </tr>\n",
       "    <tr>\n",
       "      <th>2</th>\n",
       "      <td>2.486844</td>\n",
       "      <td>Covid</td>\n",
       "    </tr>\n",
       "    <tr>\n",
       "      <th>3</th>\n",
       "      <td>2.039198</td>\n",
       "      <td>Saving</td>\n",
       "    </tr>\n",
       "  </tbody>\n",
       "</table>\n",
       "</div>"
      ],
      "text/plain": [
       "          VIF variable\n",
       "0  286.334848    const\n",
       "1    1.330068      GDP\n",
       "2    2.486844    Covid\n",
       "3    2.039198   Saving"
      ]
     },
     "execution_count": 27,
     "metadata": {},
     "output_type": "execute_result"
    }
   ],
   "source": [
    "vif = pd.DataFrame()\n",
    "vif['VIF'] = [variance_inflation_factor(x.values, i) for i in range(x.shape[1])]\n",
    "vif['variable'] = x.columns\n",
    "\n",
    "vif"
   ]
  },
  {
   "cell_type": "markdown",
   "id": "b4cb63ac",
   "metadata": {},
   "source": [
    "**3.3 Lag three months**\n",
    "\n",
    "$Y_{t+3} = a+b*T+c*GDP_t+d*Saving_t+e_i$  "
   ]
  },
  {
   "cell_type": "code",
   "execution_count": 28,
   "id": "c3ceb9ef",
   "metadata": {},
   "outputs": [
    {
     "name": "stdout",
     "output_type": "stream",
     "text": [
      "                            OLS Regression Results                            \n",
      "==============================================================================\n",
      "Dep. Variable:          House_price_2   R-squared:                       0.966\n",
      "Model:                            OLS   Adj. R-squared:                  0.965\n",
      "Method:                 Least Squares   F-statistic:                     1293.\n",
      "Date:                Sun, 01 May 2022   Prob (F-statistic):          8.88e-101\n",
      "Time:                        21:14:22   Log-Likelihood:                -469.94\n",
      "No. Observations:                 142   AIC:                             947.9\n",
      "Df Residuals:                     138   BIC:                             959.7\n",
      "Df Model:                           3                                         \n",
      "Covariance Type:            nonrobust                                         \n",
      "==============================================================================\n",
      "                 coef    std err          t      P>|t|      [0.025      0.975]\n",
      "------------------------------------------------------------------------------\n",
      "const       -212.1195      9.507    -22.313      0.000    -230.917    -193.322\n",
      "GDP            0.0222      0.001     41.683      0.000       0.021       0.023\n",
      "Covid         36.2182      2.540     14.260      0.000      31.196      41.240\n",
      "Saving         0.2253      0.215      1.049      0.296      -0.200       0.650\n",
      "==============================================================================\n",
      "Omnibus:                       45.484   Durbin-Watson:                   0.744\n",
      "Prob(Omnibus):                  0.000   Jarque-Bera (JB):              334.255\n",
      "Skew:                          -0.848   Prob(JB):                     2.62e-73\n",
      "Kurtosis:                      10.323   Cond. No.                     2.98e+05\n",
      "==============================================================================\n",
      "\n",
      "Notes:\n",
      "[1] Standard Errors assume that the covariance matrix of the errors is correctly specified.\n",
      "[2] The condition number is large, 2.98e+05. This might indicate that there are\n",
      "strong multicollinearity or other numerical problems.\n"
     ]
    }
   ],
   "source": [
    "# lag regression (Three months)\n",
    "Data3 = Data.drop([142,143,144])\n",
    "y = Data3['House_price_2']\n",
    "x = Data3[['GDP','Covid','Saving']]\n",
    "x = sm.add_constant(x)\n",
    "model = sm.OLS(y, x).fit()\n",
    "\n",
    "print(model.summary())"
   ]
  },
  {
   "cell_type": "code",
   "execution_count": 29,
   "id": "bc8ebe3e",
   "metadata": {},
   "outputs": [
    {
     "data": {
      "text/html": [
       "<div>\n",
       "<style scoped>\n",
       "    .dataframe tbody tr th:only-of-type {\n",
       "        vertical-align: middle;\n",
       "    }\n",
       "\n",
       "    .dataframe tbody tr th {\n",
       "        vertical-align: top;\n",
       "    }\n",
       "\n",
       "    .dataframe thead th {\n",
       "        text-align: right;\n",
       "    }\n",
       "</style>\n",
       "<table border=\"1\" class=\"dataframe\">\n",
       "  <thead>\n",
       "    <tr style=\"text-align: right;\">\n",
       "      <th></th>\n",
       "      <th>VIF</th>\n",
       "      <th>variable</th>\n",
       "    </tr>\n",
       "  </thead>\n",
       "  <tbody>\n",
       "    <tr>\n",
       "      <th>0</th>\n",
       "      <td>284.338695</td>\n",
       "      <td>const</td>\n",
       "    </tr>\n",
       "    <tr>\n",
       "      <th>1</th>\n",
       "      <td>1.298985</td>\n",
       "      <td>GDP</td>\n",
       "    </tr>\n",
       "    <tr>\n",
       "      <th>2</th>\n",
       "      <td>2.557670</td>\n",
       "      <td>Covid</td>\n",
       "    </tr>\n",
       "    <tr>\n",
       "      <th>3</th>\n",
       "      <td>2.147904</td>\n",
       "      <td>Saving</td>\n",
       "    </tr>\n",
       "  </tbody>\n",
       "</table>\n",
       "</div>"
      ],
      "text/plain": [
       "          VIF variable\n",
       "0  284.338695    const\n",
       "1    1.298985      GDP\n",
       "2    2.557670    Covid\n",
       "3    2.147904   Saving"
      ]
     },
     "execution_count": 29,
     "metadata": {},
     "output_type": "execute_result"
    }
   ],
   "source": [
    "vif = pd.DataFrame()\n",
    "vif['VIF'] = [variance_inflation_factor(x.values, i) for i in range(x.shape[1])]\n",
    "vif['variable'] = x.columns\n",
    "\n",
    "vif"
   ]
  },
  {
   "cell_type": "markdown",
   "id": "6c8c2c3a",
   "metadata": {},
   "source": [
    "Our findings are robust to different model specifications. We tried three model specifications, without covariates, with covariates, and with lagged dependent variables. Among them, lagged dependent variables were carried out for one month, two months and three months respectively. All model results show that the variable Covid has a significant positive correlation with house prices, that is, the existence of Covid-19 pandemic makes house prices rise."
   ]
  },
  {
   "cell_type": "code",
   "execution_count": null,
   "id": "9c99e8f7",
   "metadata": {},
   "outputs": [],
   "source": []
  }
 ],
 "metadata": {
  "kernelspec": {
   "display_name": "Python 3",
   "language": "python",
   "name": "python3"
  },
  "language_info": {
   "codemirror_mode": {
    "name": "ipython",
    "version": 3
   },
   "file_extension": ".py",
   "mimetype": "text/x-python",
   "name": "python",
   "nbconvert_exporter": "python",
   "pygments_lexer": "ipython3",
   "version": "3.8.8"
  }
 },
 "nbformat": 4,
 "nbformat_minor": 5
}
